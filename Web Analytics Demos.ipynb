{
 "cells": [
  {
   "cell_type": "code",
   "execution_count": null,
   "metadata": {},
   "outputs": [],
   "source": []
  },
  {
   "cell_type": "code",
   "execution_count": 42,
   "metadata": {},
   "outputs": [],
   "source": [
    "# Data Creation and Manipulation\n",
    "import pandas as pd\n",
    "import numpy as np\n",
    "from pandasql import sqldf  # !pip install pandasql if needed\n",
    "\n",
    "# Data Visualization\n",
    "from matplotlib import pyplot as plt\n",
    "import seaborn as sns\n",
    "\n",
    "# Statistics\n",
    "from scipy import stats"
   ]
  },
  {
   "cell_type": "markdown",
   "metadata": {},
   "source": [
    "## Cost per Click"
   ]
  },
  {
   "cell_type": "code",
   "execution_count": 49,
   "metadata": {},
   "outputs": [],
   "source": [
    "# Compare daily average cost per click for 2 different ad keywords\n",
    "\n",
    "# Create data\n",
    "avg, st_dev = .85, 0.1 # mean and standard deviation\n",
    "keyword_1 = np.random.normal(avg, st_dev, 1000)\n",
    "\n",
    "avg, st_dev = .95, 0.15\n",
    "keyword_2 = np.random.normal(avg, st_dev, 1000)"
   ]
  },
  {
   "cell_type": "code",
   "execution_count": 50,
   "metadata": {},
   "outputs": [
    {
     "data": {
      "image/png": "[encoded data removed]",
      "text/plain": [
       "<Figure size 432x288 with 1 Axes>"
      ]
     },
     "metadata": {
      "needs_background": "light"
     },
     "output_type": "display_data"
    }
   ],
   "source": [
    "# Create visualization\n",
    "bins = np.linspace(start=0.4, stop=1.5, num=25)\n",
    "\n",
    "plt.hist(keyword_1, bins, alpha=0.5, label='Keyword 1')\n",
    "plt.hist(keyword_2, bins, alpha=0.5, label='Keyword 2')\n",
    "plt.legend(loc='upper right')\n",
    "plt.title(\"Cost per click distributions for two keywords\")\n",
    "plt.show()"
   ]
  },
  {
   "cell_type": "code",
   "execution_count": 55,
   "metadata": {},
   "outputs": [],
   "source": [
    "test_statistic, p_value = stats.ttest_ind(a=keyword_1, b=keyword_2, equal_var=False)"
   ]
  },
  {
   "cell_type": "markdown",
   "metadata": {},
   "source": [
    "Before we actually look at the result, we need to decide on our p-value that we will use to determine whether the results are significant.\n",
    "\n",
    "These are p-values you can use based on your sample size.\n",
    "\n",
    "| Sample Size |\n",
    "|-------------|\n",
    "\n",
    "|  | 30 | 50 | 100 | 1000 |\n",
    "|------|--------|------|------|--------|\n",
    "| Weak | 0.076 | 0.053 | 0.032 | 0.009 |\n",
    "| Fair | 0.028 | 0.019 | 0.010 | 0.003 |\n",
    "| Strong | 0.005 | 0.003 | 0.001 | 0.0003 |\n",
    "| Very Strong | 0.001 | 0.0005 | 0.0001 | 0.00004 |"
   ]
  },
  {
   "cell_type": "code",
   "execution_count": 58,
   "metadata": {},
   "outputs": [
    {
     "data": {
      "text/plain": [
       "4.4980095573753844e-55"
      ]
     },
     "execution_count": 58,
     "metadata": {},
     "output_type": "execute_result"
    }
   ],
   "source": [
    "p_value"
   ]
  },
  {
   "cell_type": "markdown",
   "metadata": {},
   "source": [
    "Whoa, that's tiny!\n",
    "\n",
    "From this, we can see that the average cost per click of the two keywords is significantly different. We might consider recommending that the less expensive keyword receive a greater amount of the budget if it also performs better in terms of conversions."
   ]
  },
  {
   "cell_type": "markdown",
   "metadata": {},
   "source": [
    "## Add-to-Carts"
   ]
  },
  {
   "cell_type": "code",
   "execution_count": 66,
   "metadata": {},
   "outputs": [],
   "source": [
    "import_columns = ['event_type', 'brand', 'product_id', 'user_id', 'user_session']\n",
    "\n",
    "df = pd.read_csv('C:/Users/ericd/Desktop/ecom-data.csv',\n",
    "                 usecols=import_columns)"
   ]
  },
  {
   "cell_type": "code",
   "execution_count": 67,
   "metadata": {},
   "outputs": [
    {
     "name": "stdout",
     "output_type": "stream",
     "text": [
      "There are 926516 add-to-cart events in the dataset.\n"
     ]
    }
   ],
   "source": [
    "add_to_carts = len(df[df['event_type'] == \"cart\"])\n",
    "print(f\"There are {add_to_carts} add-to-cart events in the dataset.\")"
   ]
  },
  {
   "cell_type": "code",
   "execution_count": 68,
   "metadata": {},
   "outputs": [
    {
     "data": {
      "text/html": [
       "<div>\n",
       "<style scoped>\n",
       "    .dataframe tbody tr th:only-of-type {\n",
       "        vertical-align: middle;\n",
       "    }\n",
       "\n",
       "    .dataframe tbody tr th {\n",
       "        vertical-align: top;\n",
       "    }\n",
       "\n",
       "    .dataframe thead th {\n",
       "        text-align: right;\n",
       "    }\n",
       "</style>\n",
       "<table border=\"1\" class=\"dataframe\">\n",
       "  <thead>\n",
       "    <tr style=\"text-align: right;\">\n",
       "      <th></th>\n",
       "      <th>event_type</th>\n",
       "      <th>product_id</th>\n",
       "      <th>brand</th>\n",
       "      <th>user_id</th>\n",
       "      <th>user_session</th>\n",
       "    </tr>\n",
       "  </thead>\n",
       "  <tbody>\n",
       "    <tr>\n",
       "      <th>0</th>\n",
       "      <td>view</td>\n",
       "      <td>44600062</td>\n",
       "      <td>shiseido</td>\n",
       "      <td>541312140</td>\n",
       "      <td>72d76fde-8bb3-4e00-8c23-a032dfed738c</td>\n",
       "    </tr>\n",
       "    <tr>\n",
       "      <th>1</th>\n",
       "      <td>view</td>\n",
       "      <td>3900821</td>\n",
       "      <td>aqua</td>\n",
       "      <td>554748717</td>\n",
       "      <td>9333dfbd-b87a-4708-9857-6336556b0fcc</td>\n",
       "    </tr>\n",
       "    <tr>\n",
       "      <th>2</th>\n",
       "      <td>view</td>\n",
       "      <td>17200506</td>\n",
       "      <td>NaN</td>\n",
       "      <td>519107250</td>\n",
       "      <td>566511c2-e2e3-422b-b695-cf8e6e792ca8</td>\n",
       "    </tr>\n",
       "    <tr>\n",
       "      <th>3</th>\n",
       "      <td>view</td>\n",
       "      <td>1307067</td>\n",
       "      <td>lenovo</td>\n",
       "      <td>550050854</td>\n",
       "      <td>7c90fc70-0e80-4590-96f3-13c02c18c713</td>\n",
       "    </tr>\n",
       "    <tr>\n",
       "      <th>4</th>\n",
       "      <td>view</td>\n",
       "      <td>1004237</td>\n",
       "      <td>apple</td>\n",
       "      <td>535871217</td>\n",
       "      <td>c6bd7419-2748-4c56-95b4-8cec9ff8b80d</td>\n",
       "    </tr>\n",
       "  </tbody>\n",
       "</table>\n",
       "</div>"
      ],
      "text/plain": [
       "  event_type  product_id     brand    user_id  \\\n",
       "0       view    44600062  shiseido  541312140   \n",
       "1       view     3900821      aqua  554748717   \n",
       "2       view    17200506       NaN  519107250   \n",
       "3       view     1307067    lenovo  550050854   \n",
       "4       view     1004237     apple  535871217   \n",
       "\n",
       "                           user_session  \n",
       "0  72d76fde-8bb3-4e00-8c23-a032dfed738c  \n",
       "1  9333dfbd-b87a-4708-9857-6336556b0fcc  \n",
       "2  566511c2-e2e3-422b-b695-cf8e6e792ca8  \n",
       "3  7c90fc70-0e80-4590-96f3-13c02c18c713  \n",
       "4  c6bd7419-2748-4c56-95b4-8cec9ff8b80d  "
      ]
     },
     "execution_count": 68,
     "metadata": {},
     "output_type": "execute_result"
    }
   ],
   "source": [
    "df.head()"
   ]
  },
  {
   "cell_type": "markdown",
   "metadata": {},
   "source": [
    "Now we can look at add-to-cart events by brand to see which brands are the most popular."
   ]
  },
  {
   "cell_type": "code",
   "execution_count": 84,
   "metadata": {},
   "outputs": [],
   "source": [
    "# Create dataframe grouping add-to-carts by brand\n",
    "brand_df = ((df[df['event_type'] == \"cart\"]\n",
    "            .groupby('brand')\n",
    "            .agg(add_to_carts = pd.NamedAgg(column = 'event_type', aggfunc='count')))\n",
    "            .sort_values(by=['add_to_carts'], ascending=False))"
   ]
  },
  {
   "cell_type": "code",
   "execution_count": 88,
   "metadata": {},
   "outputs": [
    {
     "data": {
      "text/plain": [
       "<AxesSubplot:xlabel='brand'>"
      ]
     },
     "execution_count": 88,
     "metadata": {},
     "output_type": "execute_result"
    },
    {
     "data": {
      "image/png": "[encoded data removed]",
      "text/plain": [
       "<Figure size 432x288 with 1 Axes>"
      ]
     },
     "metadata": {
      "needs_background": "light"
     },
     "output_type": "display_data"
    }
   ],
   "source": [
    "# Quick bar plot to see if there's anything interesting!\n",
    "brand_df.head(10).plot(kind='bar')"
   ]
  },
  {
   "cell_type": "markdown",
   "metadata": {},
   "source": [
    "## Conversion Rate\n",
    "This is just a quick calculation. We are looking at the number of sessions where a purchase was made divided by the total number of unique sessions."
   ]
  },
  {
   "cell_type": "code",
   "execution_count": 132,
   "metadata": {},
   "outputs": [],
   "source": [
    "total_sessions = df['user_session'].nunique()\n",
    "purchase_sessions = df[df['event_type'] == \"purchase\"]['user_session'].nunique()\n",
    "\n",
    "conversion_rate = purchase_sessions / total_sessions"
   ]
  },
  {
   "cell_type": "code",
   "execution_count": 133,
   "metadata": {},
   "outputs": [
    {
     "name": "stdout",
     "output_type": "stream",
     "text": [
      "Conversion Rate: 6.8%\n"
     ]
    }
   ],
   "source": [
    "print(f\"Conversion Rate: {round(conversion_rate*100, 1)}%\")"
   ]
  },
  {
   "cell_type": "markdown",
   "metadata": {},
   "source": [
    "## Average Order Value"
   ]
  },
  {
   "cell_type": "code",
   "execution_count": 107,
   "metadata": {},
   "outputs": [],
   "source": [
    "payments_df = pd.read_csv(\"C:/Users/ericd/Desktop/olist_order_payments.csv\", \n",
    "                          usecols=['order_id', 'payment_type', 'payment_value'])\n",
    "\n",
    "customers_df = pd.read_csv(\"C:/Users/ericd/Desktop/olist_customers.csv\", \n",
    "                           usecols=['customer_id', 'customer_city', 'customer_state'])\n",
    "\n",
    "orders_df = pd.read_csv(\"C:/Users/ericd/Desktop/olist_orders.csv\", \n",
    "                        usecols=['order_id', 'customer_id'])"
   ]
  },
  {
   "cell_type": "code",
   "execution_count": 127,
   "metadata": {},
   "outputs": [
    {
     "data": {
      "text/html": [
       "<div>\n",
       "<style scoped>\n",
       "    .dataframe tbody tr th:only-of-type {\n",
       "        vertical-align: middle;\n",
       "    }\n",
       "\n",
       "    .dataframe tbody tr th {\n",
       "        vertical-align: top;\n",
       "    }\n",
       "\n",
       "    .dataframe thead th {\n",
       "        text-align: right;\n",
       "    }\n",
       "</style>\n",
       "<table border=\"1\" class=\"dataframe\">\n",
       "  <thead>\n",
       "    <tr style=\"text-align: right;\">\n",
       "      <th></th>\n",
       "      <th>order_id</th>\n",
       "      <th>payment_type</th>\n",
       "      <th>payment_value</th>\n",
       "    </tr>\n",
       "  </thead>\n",
       "  <tbody>\n",
       "    <tr>\n",
       "      <th>0</th>\n",
       "      <td>b81ef226f3fe1789b1e8b2acac839d17</td>\n",
       "      <td>credit_card</td>\n",
       "      <td>99.33</td>\n",
       "    </tr>\n",
       "  </tbody>\n",
       "</table>\n",
       "</div>"
      ],
      "text/plain": [
       "                           order_id payment_type  payment_value\n",
       "0  b81ef226f3fe1789b1e8b2acac839d17  credit_card          99.33"
      ]
     },
     "execution_count": 127,
     "metadata": {},
     "output_type": "execute_result"
    }
   ],
   "source": [
    "payments_df.head(1)"
   ]
  },
  {
   "cell_type": "code",
   "execution_count": 112,
   "metadata": {},
   "outputs": [
    {
     "data": {
      "text/html": [
       "<div>\n",
       "<style scoped>\n",
       "    .dataframe tbody tr th:only-of-type {\n",
       "        vertical-align: middle;\n",
       "    }\n",
       "\n",
       "    .dataframe tbody tr th {\n",
       "        vertical-align: top;\n",
       "    }\n",
       "\n",
       "    .dataframe thead th {\n",
       "        text-align: right;\n",
       "    }\n",
       "</style>\n",
       "<table border=\"1\" class=\"dataframe\">\n",
       "  <thead>\n",
       "    <tr style=\"text-align: right;\">\n",
       "      <th></th>\n",
       "      <th>customer_id</th>\n",
       "      <th>customer_city</th>\n",
       "      <th>customer_state</th>\n",
       "    </tr>\n",
       "  </thead>\n",
       "  <tbody>\n",
       "    <tr>\n",
       "      <th>0</th>\n",
       "      <td>06b8999e2fba1a1fbc88172c00ba8bc7</td>\n",
       "      <td>franca</td>\n",
       "      <td>SP</td>\n",
       "    </tr>\n",
       "  </tbody>\n",
       "</table>\n",
       "</div>"
      ],
      "text/plain": [
       "                        customer_id customer_city customer_state\n",
       "0  06b8999e2fba1a1fbc88172c00ba8bc7        franca             SP"
      ]
     },
     "execution_count": 112,
     "metadata": {},
     "output_type": "execute_result"
    }
   ],
   "source": [
    "customers_df.head(1)"
   ]
  },
  {
   "cell_type": "code",
   "execution_count": 113,
   "metadata": {},
   "outputs": [
    {
     "data": {
      "text/html": [
       "<div>\n",
       "<style scoped>\n",
       "    .dataframe tbody tr th:only-of-type {\n",
       "        vertical-align: middle;\n",
       "    }\n",
       "\n",
       "    .dataframe tbody tr th {\n",
       "        vertical-align: top;\n",
       "    }\n",
       "\n",
       "    .dataframe thead th {\n",
       "        text-align: right;\n",
       "    }\n",
       "</style>\n",
       "<table border=\"1\" class=\"dataframe\">\n",
       "  <thead>\n",
       "    <tr style=\"text-align: right;\">\n",
       "      <th></th>\n",
       "      <th>order_id</th>\n",
       "      <th>customer_id</th>\n",
       "    </tr>\n",
       "  </thead>\n",
       "  <tbody>\n",
       "    <tr>\n",
       "      <th>0</th>\n",
       "      <td>e481f51cbdc54678b7cc49136f2d6af7</td>\n",
       "      <td>9ef432eb6251297304e76186b10a928d</td>\n",
       "    </tr>\n",
       "  </tbody>\n",
       "</table>\n",
       "</div>"
      ],
      "text/plain": [
       "                           order_id                       customer_id\n",
       "0  e481f51cbdc54678b7cc49136f2d6af7  9ef432eb6251297304e76186b10a928d"
      ]
     },
     "execution_count": 113,
     "metadata": {},
     "output_type": "execute_result"
    }
   ],
   "source": [
    "orders_df.head(1)"
   ]
  },
  {
   "cell_type": "code",
   "execution_count": 118,
   "metadata": {},
   "outputs": [
    {
     "data": {
      "text/plain": [
       "154.10038041698365"
      ]
     },
     "execution_count": 118,
     "metadata": {},
     "output_type": "execute_result"
    }
   ],
   "source": [
    "# This is the \"vanilla\" Average Order Value (AOV)\n",
    "payments_df['payment_value'].mean()"
   ]
  },
  {
   "cell_type": "code",
   "execution_count": 125,
   "metadata": {},
   "outputs": [
    {
     "name": "stdout",
     "output_type": "stream",
     "text": [
      "   customer_state  AVG(p.payment_value)\n",
      "0              PB            248.325825\n",
      "1              AC            234.293095\n",
      "2              RO            233.203831\n",
      "3              AP            232.325714\n",
      "4              AL            227.077424\n",
      "5              RR            218.796087\n",
      "6              PA            215.920722\n",
      "7              SE            208.438366\n",
      "8              PI            207.106813\n",
      "9              TO            204.270199\n",
      "10             CE            199.902740\n",
      "11             MA            198.856610\n",
      "12             RN            196.778027\n",
      "13             MT            195.228904\n",
      "14             PE            187.992153\n",
      "15             MS            186.867989\n",
      "16             AM            181.603442\n",
      "17             BA            170.816017\n",
      "18             SC            165.979337\n",
      "19             GO            165.763404\n",
      "20             DF            161.134791\n",
      "21             RJ            158.525888\n",
      "22             RS            157.180406\n",
      "23             ES            154.706953\n",
      "24             MG            154.706434\n",
      "25             PR            154.153626\n",
      "26             SP            137.504630\n"
     ]
    }
   ],
   "source": [
    "query = '''\n",
    "        SELECT c.customer_state, AVG(p.payment_value)\n",
    "        FROM payments_df p\n",
    "        JOIN orders_df o\n",
    "            ON o.order_id = p.order_id\n",
    "        JOIN customers_df c\n",
    "            ON c.customer_id = o.customer_id\n",
    "        GROUP BY c.customer_state\n",
    "        ORDER BY AVG(p.payment_value) DESC\n",
    "'''\n",
    "\n",
    "print(sqldf(query))"
   ]
  },
  {
   "cell_type": "code",
   "execution_count": 135,
   "metadata": {},
   "outputs": [
    {
     "name": "stdout",
     "output_type": "stream",
     "text": [
      "   customer_state  AVG(p.payment_value)  COUNT(p.order_id)\n",
      "0              SP            137.504630              43622\n",
      "1              RJ            158.525888              13527\n",
      "2              MG            154.706434              12102\n",
      "3              RS            157.180406               5668\n",
      "4              PR            154.153626               5262\n",
      "5              SC            165.979337               3754\n",
      "6              BA            170.816017               3610\n",
      "7              DF            161.134791               2204\n",
      "8              GO            165.763404               2112\n",
      "9              ES            154.706953               2107\n",
      "10             PE            187.992153               1728\n",
      "11             CE            199.902740               1398\n",
      "12             PA            215.920722               1011\n",
      "13             MT            195.228904                958\n",
      "14             MA            198.856610                767\n",
      "15             MS            186.867989                736\n",
      "16             PB            248.325825                570\n",
      "17             PI            207.106813                524\n",
      "18             RN            196.778027                522\n",
      "19             AL            227.077424                427\n",
      "20             SE            208.438366                361\n",
      "21             TO            204.270199                301\n",
      "22             RO            233.203831                261\n",
      "23             AM            181.603442                154\n",
      "24             AC            234.293095                 84\n",
      "25             AP            232.325714                 70\n",
      "26             RR            218.796087                 46\n"
     ]
    }
   ],
   "source": [
    "# Adding the count of orders to the query\n",
    "query = '''\n",
    "        SELECT c.customer_state, AVG(p.payment_value), COUNT(p.order_id)\n",
    "        FROM payments_df p\n",
    "        JOIN orders_df o\n",
    "            ON o.order_id = p.order_id\n",
    "        JOIN customers_df c\n",
    "            ON c.customer_id = o.customer_id\n",
    "        GROUP BY c.customer_state\n",
    "        -- ORDER BY AVG(p.payment_value) DESC\n",
    "        ORDER BY COUNT(p.order_id) DESC\n",
    "'''\n",
    "\n",
    "print(sqldf(query))"
   ]
  },
  {
   "cell_type": "code",
   "execution_count": 136,
   "metadata": {},
   "outputs": [],
   "source": [
    "# You can save your query results to a dataframe for further analysis\n",
    "aov_df = sqldf(query)"
   ]
  },
  {
   "cell_type": "code",
   "execution_count": 137,
   "metadata": {},
   "outputs": [
    {
     "data": {
      "text/html": [
       "<div>\n",
       "<style scoped>\n",
       "    .dataframe tbody tr th:only-of-type {\n",
       "        vertical-align: middle;\n",
       "    }\n",
       "\n",
       "    .dataframe tbody tr th {\n",
       "        vertical-align: top;\n",
       "    }\n",
       "\n",
       "    .dataframe thead th {\n",
       "        text-align: right;\n",
       "    }\n",
       "</style>\n",
       "<table border=\"1\" class=\"dataframe\">\n",
       "  <thead>\n",
       "    <tr style=\"text-align: right;\">\n",
       "      <th></th>\n",
       "      <th>customer_state</th>\n",
       "      <th>AVG(p.payment_value)</th>\n",
       "      <th>COUNT(p.order_id)</th>\n",
       "    </tr>\n",
       "  </thead>\n",
       "  <tbody>\n",
       "    <tr>\n",
       "      <th>0</th>\n",
       "      <td>SP</td>\n",
       "      <td>137.504630</td>\n",
       "      <td>43622</td>\n",
       "    </tr>\n",
       "    <tr>\n",
       "      <th>1</th>\n",
       "      <td>RJ</td>\n",
       "      <td>158.525888</td>\n",
       "      <td>13527</td>\n",
       "    </tr>\n",
       "    <tr>\n",
       "      <th>2</th>\n",
       "      <td>MG</td>\n",
       "      <td>154.706434</td>\n",
       "      <td>12102</td>\n",
       "    </tr>\n",
       "    <tr>\n",
       "      <th>3</th>\n",
       "      <td>RS</td>\n",
       "      <td>157.180406</td>\n",
       "      <td>5668</td>\n",
       "    </tr>\n",
       "    <tr>\n",
       "      <th>4</th>\n",
       "      <td>PR</td>\n",
       "      <td>154.153626</td>\n",
       "      <td>5262</td>\n",
       "    </tr>\n",
       "    <tr>\n",
       "      <th>5</th>\n",
       "      <td>SC</td>\n",
       "      <td>165.979337</td>\n",
       "      <td>3754</td>\n",
       "    </tr>\n",
       "    <tr>\n",
       "      <th>6</th>\n",
       "      <td>BA</td>\n",
       "      <td>170.816017</td>\n",
       "      <td>3610</td>\n",
       "    </tr>\n",
       "    <tr>\n",
       "      <th>7</th>\n",
       "      <td>DF</td>\n",
       "      <td>161.134791</td>\n",
       "      <td>2204</td>\n",
       "    </tr>\n",
       "    <tr>\n",
       "      <th>8</th>\n",
       "      <td>GO</td>\n",
       "      <td>165.763404</td>\n",
       "      <td>2112</td>\n",
       "    </tr>\n",
       "    <tr>\n",
       "      <th>9</th>\n",
       "      <td>ES</td>\n",
       "      <td>154.706953</td>\n",
       "      <td>2107</td>\n",
       "    </tr>\n",
       "    <tr>\n",
       "      <th>10</th>\n",
       "      <td>PE</td>\n",
       "      <td>187.992153</td>\n",
       "      <td>1728</td>\n",
       "    </tr>\n",
       "    <tr>\n",
       "      <th>11</th>\n",
       "      <td>CE</td>\n",
       "      <td>199.902740</td>\n",
       "      <td>1398</td>\n",
       "    </tr>\n",
       "    <tr>\n",
       "      <th>12</th>\n",
       "      <td>PA</td>\n",
       "      <td>215.920722</td>\n",
       "      <td>1011</td>\n",
       "    </tr>\n",
       "    <tr>\n",
       "      <th>13</th>\n",
       "      <td>MT</td>\n",
       "      <td>195.228904</td>\n",
       "      <td>958</td>\n",
       "    </tr>\n",
       "    <tr>\n",
       "      <th>14</th>\n",
       "      <td>MA</td>\n",
       "      <td>198.856610</td>\n",
       "      <td>767</td>\n",
       "    </tr>\n",
       "    <tr>\n",
       "      <th>15</th>\n",
       "      <td>MS</td>\n",
       "      <td>186.867989</td>\n",
       "      <td>736</td>\n",
       "    </tr>\n",
       "    <tr>\n",
       "      <th>16</th>\n",
       "      <td>PB</td>\n",
       "      <td>248.325825</td>\n",
       "      <td>570</td>\n",
       "    </tr>\n",
       "    <tr>\n",
       "      <th>17</th>\n",
       "      <td>PI</td>\n",
       "      <td>207.106813</td>\n",
       "      <td>524</td>\n",
       "    </tr>\n",
       "    <tr>\n",
       "      <th>18</th>\n",
       "      <td>RN</td>\n",
       "      <td>196.778027</td>\n",
       "      <td>522</td>\n",
       "    </tr>\n",
       "    <tr>\n",
       "      <th>19</th>\n",
       "      <td>AL</td>\n",
       "      <td>227.077424</td>\n",
       "      <td>427</td>\n",
       "    </tr>\n",
       "    <tr>\n",
       "      <th>20</th>\n",
       "      <td>SE</td>\n",
       "      <td>208.438366</td>\n",
       "      <td>361</td>\n",
       "    </tr>\n",
       "    <tr>\n",
       "      <th>21</th>\n",
       "      <td>TO</td>\n",
       "      <td>204.270199</td>\n",
       "      <td>301</td>\n",
       "    </tr>\n",
       "    <tr>\n",
       "      <th>22</th>\n",
       "      <td>RO</td>\n",
       "      <td>233.203831</td>\n",
       "      <td>261</td>\n",
       "    </tr>\n",
       "    <tr>\n",
       "      <th>23</th>\n",
       "      <td>AM</td>\n",
       "      <td>181.603442</td>\n",
       "      <td>154</td>\n",
       "    </tr>\n",
       "    <tr>\n",
       "      <th>24</th>\n",
       "      <td>AC</td>\n",
       "      <td>234.293095</td>\n",
       "      <td>84</td>\n",
       "    </tr>\n",
       "    <tr>\n",
       "      <th>25</th>\n",
       "      <td>AP</td>\n",
       "      <td>232.325714</td>\n",
       "      <td>70</td>\n",
       "    </tr>\n",
       "    <tr>\n",
       "      <th>26</th>\n",
       "      <td>RR</td>\n",
       "      <td>218.796087</td>\n",
       "      <td>46</td>\n",
       "    </tr>\n",
       "  </tbody>\n",
       "</table>\n",
       "</div>"
      ],
      "text/plain": [
       "   customer_state  AVG(p.payment_value)  COUNT(p.order_id)\n",
       "0              SP            137.504630              43622\n",
       "1              RJ            158.525888              13527\n",
       "2              MG            154.706434              12102\n",
       "3              RS            157.180406               5668\n",
       "4              PR            154.153626               5262\n",
       "5              SC            165.979337               3754\n",
       "6              BA            170.816017               3610\n",
       "7              DF            161.134791               2204\n",
       "8              GO            165.763404               2112\n",
       "9              ES            154.706953               2107\n",
       "10             PE            187.992153               1728\n",
       "11             CE            199.902740               1398\n",
       "12             PA            215.920722               1011\n",
       "13             MT            195.228904                958\n",
       "14             MA            198.856610                767\n",
       "15             MS            186.867989                736\n",
       "16             PB            248.325825                570\n",
       "17             PI            207.106813                524\n",
       "18             RN            196.778027                522\n",
       "19             AL            227.077424                427\n",
       "20             SE            208.438366                361\n",
       "21             TO            204.270199                301\n",
       "22             RO            233.203831                261\n",
       "23             AM            181.603442                154\n",
       "24             AC            234.293095                 84\n",
       "25             AP            232.325714                 70\n",
       "26             RR            218.796087                 46"
      ]
     },
     "execution_count": 137,
     "metadata": {},
     "output_type": "execute_result"
    }
   ],
   "source": [
    "aov_df"
   ]
  },
  {
   "cell_type": "code",
   "execution_count": null,
   "metadata": {},
   "outputs": [],
   "source": []
  }
 ],
 "metadata": {
  "kernelspec": {
   "display_name": "Python 3",
   "language": "python",
   "name": "python3"
  },
  "language_info": {
   "codemirror_mode": {
    "name": "ipython",
    "version": 3
   },
   "file_extension": ".py",
   "mimetype": "text/x-python",
   "name": "python",
   "nbconvert_exporter": "python",
   "pygments_lexer": "ipython3",
   "version": "3.7.6"
  }
 },
 "nbformat": 4,
 "nbformat_minor": 4
}
