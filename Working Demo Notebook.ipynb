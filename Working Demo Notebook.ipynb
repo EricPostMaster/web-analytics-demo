{
 "cells": [
  {
   "cell_type": "markdown",
   "metadata": {},
   "source": [
    "# Web Analytics Demo"
   ]
  },
  {
   "cell_type": "markdown",
   "metadata": {},
   "source": [
    "## Import Required Libraries"
   ]
  },
  {
   "cell_type": "code",
   "execution_count": null,
   "metadata": {},
   "outputs": [],
   "source": []
  },
  {
   "cell_type": "markdown",
   "metadata": {},
   "source": [
    "## Net New Email Subscribes\n",
    "\n",
    "1. Import our email subscription data\n",
    "1. Create a new feature \"net_new_subscribers\"\n",
    "1. Total net new suscribers and visualize"
   ]
  },
  {
   "cell_type": "code",
   "execution_count": null,
   "metadata": {},
   "outputs": [],
   "source": [
    "# Import data\n"
   ]
  },
  {
   "cell_type": "code",
   "execution_count": null,
   "metadata": {},
   "outputs": [],
   "source": [
    "# Create new feature\n"
   ]
  },
  {
   "cell_type": "code",
   "execution_count": null,
   "metadata": {},
   "outputs": [],
   "source": [
    "# Look at dataframe\n"
   ]
  },
  {
   "cell_type": "code",
   "execution_count": null,
   "metadata": {},
   "outputs": [],
   "source": [
    "# Total net new subscribers\n"
   ]
  },
  {
   "cell_type": "code",
   "execution_count": null,
   "metadata": {},
   "outputs": [],
   "source": [
    "# Visualize net new subscribers\n"
   ]
  },
  {
   "cell_type": "markdown",
   "metadata": {},
   "source": [
    "## Cost per Click\n",
    "\n",
    "Compare daily average cost per click for 2 different ad keywords to see if one keyword is significantly more expensive than another.\n",
    "\n",
    "1. Create data\n",
    "1. Visualize\n",
    "1. Run statistical test to determine significance"
   ]
  },
  {
   "cell_type": "code",
   "execution_count": null,
   "metadata": {},
   "outputs": [],
   "source": [
    "# Compare daily average cost per click for 2 different ad keywords\n",
    "\n",
    "# Create data\n"
   ]
  },
  {
   "cell_type": "code",
   "execution_count": null,
   "metadata": {},
   "outputs": [],
   "source": [
    "# Create visualization\n"
   ]
  },
  {
   "cell_type": "code",
   "execution_count": null,
   "metadata": {},
   "outputs": [],
   "source": [
    "# Run t-test\n"
   ]
  },
  {
   "cell_type": "markdown",
   "metadata": {},
   "source": [
    "Before we actually look at the result, we need to decide on our p-value that we will use to determine whether the results are significant.\n",
    "\n",
    "These are p-values you can use based on your sample size.\n",
    "\n",
    "| Sample Size |\n",
    "|-------------|\n",
    "\n",
    "|  | 30 | 50 | 100 | 1000 |\n",
    "|------|--------|------|------|--------|\n",
    "| Weak | 0.076 | 0.053 | 0.032 | 0.009 |\n",
    "| Fair | 0.028 | 0.019 | 0.010 | 0.003 |\n",
    "| Strong | 0.005 | 0.003 | 0.001 | 0.0003 |\n",
    "| Very Strong | 0.001 | 0.0005 | 0.0001 | 0.00004 |"
   ]
  },
  {
   "cell_type": "code",
   "execution_count": null,
   "metadata": {},
   "outputs": [],
   "source": [
    "# Check p_value"
   ]
  },
  {
   "cell_type": "markdown",
   "metadata": {},
   "source": [
    "Is the p-value for the statistical test smaller than the threshold in the table above? If so, then you can conclude that the keywords are significantly different from one another in terms of cost."
   ]
  },
  {
   "cell_type": "markdown",
   "metadata": {},
   "source": [
    "## Add-to-Carts\n",
    "\n",
    "1. Import the data\n",
    "1. Count the add-to-cart events\n",
    "1. Break down by subcategories (e.g., brand, location, etc.)"
   ]
  },
  {
   "cell_type": "code",
   "execution_count": null,
   "metadata": {},
   "outputs": [],
   "source": [
    "# Import data using only the columns we need\n"
   ]
  },
  {
   "cell_type": "code",
   "execution_count": null,
   "metadata": {},
   "outputs": [],
   "source": [
    "# Count add-to-cart events\n"
   ]
  },
  {
   "cell_type": "markdown",
   "metadata": {},
   "source": [
    "Now we can look at add-to-cart events by brand to see which brands are the most popular."
   ]
  },
  {
   "cell_type": "code",
   "execution_count": null,
   "metadata": {},
   "outputs": [],
   "source": [
    "# Create dataframe grouping add-to-carts by brand\n"
   ]
  },
  {
   "cell_type": "code",
   "execution_count": null,
   "metadata": {},
   "outputs": [],
   "source": [
    "# Make a quick bar plot to see if there's anything interesting!\n"
   ]
  },
  {
   "cell_type": "markdown",
   "metadata": {},
   "source": [
    "## Conversion Rate\n",
    "This is just a quick calculation. We are looking at the number of sessions where a purchase was made divided by the total number of unique sessions.\n",
    "\n",
    "1. Create total sessions and sessions with purchase variables\n",
    "2. Divide purchase into total to get conversion rate"
   ]
  },
  {
   "cell_type": "code",
   "execution_count": null,
   "metadata": {},
   "outputs": [],
   "source": [
    "total_sessions = df['user_session'].nunique()\n",
    "purchase_sessions = df[df['event_type'] == \"purchase\"]['user_session'].nunique()\n",
    "\n",
    "conversion_rate = purchase_sessions / total_sessions"
   ]
  },
  {
   "cell_type": "code",
   "execution_count": null,
   "metadata": {},
   "outputs": [],
   "source": [
    "print(f\"Conversion Rate: {round(conversion_rate*100, 1)}%\")"
   ]
  },
  {
   "cell_type": "markdown",
   "metadata": {},
   "source": [
    "## Average Order Value (AOV)\n",
    "\n",
    "1. Import data. In this case, we are using multiple datasets and joining them with SQL.\n",
    "1. Calculate overall AOV from payments dataset\n",
    "1. Join all datasets to subset AOV by different subcategories (e.g., city, state)"
   ]
  },
  {
   "cell_type": "code",
   "execution_count": null,
   "metadata": {},
   "outputs": [],
   "source": [
    "payments_df = pd.read_csv(\"C:/Users/ericd/Desktop/olist_order_payments.csv\", \n",
    "                          usecols=['order_id', 'payment_type', 'payment_value'])\n",
    "\n",
    "orders_df = pd.read_csv(\"C:/Users/ericd/Desktop/olist_orders.csv\", \n",
    "                        usecols=['order_id', 'customer_id'])\n",
    "\n",
    "customers_df = pd.read_csv(\"C:/Users/ericd/Desktop/olist_customers.csv\", \n",
    "                           usecols=['customer_id', 'customer_city', 'customer_state'])"
   ]
  },
  {
   "cell_type": "code",
   "execution_count": null,
   "metadata": {},
   "outputs": [],
   "source": [
    "payments_df.head()"
   ]
  },
  {
   "cell_type": "code",
   "execution_count": null,
   "metadata": {},
   "outputs": [],
   "source": [
    "# This is the \"vanilla\" Average Order Value (AOV)\n",
    "payments_df['payment_value'].mean()"
   ]
  },
  {
   "cell_type": "markdown",
   "metadata": {},
   "source": [
    "### Joining Tables for Deeper Analysis\n",
    "\n",
    "We can join related tables together to give us new data to work with. Here, we will use SQL."
   ]
  },
  {
   "cell_type": "code",
   "execution_count": null,
   "metadata": {},
   "outputs": [],
   "source": [
    "payments_df.head(1)"
   ]
  },
  {
   "cell_type": "code",
   "execution_count": null,
   "metadata": {},
   "outputs": [],
   "source": [
    "orders_df.head(1)"
   ]
  },
  {
   "cell_type": "code",
   "execution_count": null,
   "metadata": {},
   "outputs": [],
   "source": [
    "customers_df.head(1)"
   ]
  },
  {
   "cell_type": "code",
   "execution_count": null,
   "metadata": {},
   "outputs": [],
   "source": [
    "query = '''\n",
    "        SELECT c.customer_state,\n",
    "               AVG(p.payment_value) as avg_order_value\n",
    "        FROM payments_df p\n",
    "        JOIN orders_df o\n",
    "            ON o.order_id = p.order_id\n",
    "        JOIN customers_df c\n",
    "            ON c.customer_id = o.customer_id\n",
    "        GROUP BY c.customer_state\n",
    "        ORDER BY AVG(p.payment_value) DESC\n",
    "'''\n",
    "\n",
    "print(sqldf(query))"
   ]
  },
  {
   "cell_type": "code",
   "execution_count": null,
   "metadata": {},
   "outputs": [],
   "source": [
    "# Adding the count of orders to the query\n",
    "query = '''\n",
    "        SELECT c.customer_state,\n",
    "               AVG(p.payment_value) as avg_order_value,\n",
    "               COUNT(p.order_id) as number_of_orders\n",
    "        FROM payments_df p\n",
    "        JOIN orders_df o\n",
    "            ON o.order_id = p.order_id\n",
    "        JOIN customers_df c\n",
    "            ON c.customer_id = o.customer_id\n",
    "        GROUP BY c.customer_state\n",
    "        -- ORDER BY AVG(p.payment_value) DESC\n",
    "        ORDER BY COUNT(p.order_id) DESC\n",
    "'''\n",
    "\n",
    "print(sqldf(query))"
   ]
  },
  {
   "cell_type": "code",
   "execution_count": null,
   "metadata": {},
   "outputs": [],
   "source": [
    "# You can save your query results to a dataframe for further analysis\n",
    "aov_df = sqldf(query)"
   ]
  },
  {
   "cell_type": "code",
   "execution_count": null,
   "metadata": {},
   "outputs": [],
   "source": [
    "aov_df"
   ]
  },
  {
   "cell_type": "markdown",
   "metadata": {},
   "source": [
    "## Reporting Your Findings\n",
    "It's important to summarize findings and report them clearly to leadership."
   ]
  },
  {
   "cell_type": "markdown",
   "metadata": {},
   "source": [
    "## Bonus: 5 Project Ideas\n",
    "The datasets today are great sources of projects. Google Analytics also has free e-Commerce data available for the Google official merchandise store. To set up an account, click [here](https://support.google.com/analytics/answer/6367342?hl=en). It only takes about 30 seconds to set up.\n",
    "\n",
    "Once you've got that set up, try these projects:\n",
    "\n",
    "1. Use [ecom data](https://www.kaggle.com/mkechinov/ecommerce-behavior-data-from-multi-category-store?select=2019-Oct.csv) from the add-to-cart section above to see which specific products are added to cart most often.\n",
    "1. Use [full Olist ecom dataset](https://www.kaggle.com/olistbr/brazilian-ecommerce?select=olist_order_payments_dataset.csv) from the AOV section above to calculate average delivery times for each state. There may be certain locations that are experiencing long wait times for products.\n",
    "1. Identify top performing keywords by number of clicks and by cost. Make recommendations regarding specific keywords or ad campaigns that should receive more budget or be discontinued.\n",
    "1. Calculate cost per conversion for Q1 2021 (Jan-Apr) and find the products that were involved in the most conversions.\n",
    "1. Analyze the bounce rate for the top 10 webpages on the site. Make recommendations regarding A/B tests that could be conducted to reduce the bounce rate and retain traffic."
   ]
  }
 ],
 "metadata": {
  "kernelspec": {
   "display_name": "Python 3",
   "language": "python",
   "name": "python3"
  },
  "language_info": {
   "codemirror_mode": {
    "name": "ipython",
    "version": 3
   },
   "file_extension": ".py",
   "mimetype": "text/x-python",
   "name": "python",
   "nbconvert_exporter": "python",
   "pygments_lexer": "ipython3",
   "version": "3.7.6"
  }
 },
 "nbformat": 4,
 "nbformat_minor": 4
}
